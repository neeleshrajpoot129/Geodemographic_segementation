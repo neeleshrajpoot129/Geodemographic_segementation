{
 "cells": [
  {
   "cell_type": "code",
   "execution_count": 1,
   "metadata": {},
   "outputs": [],
   "source": [
    "#importing the librarires\n",
    "import numpy as np \n",
    "import  pandas as pd\n"
   ]
  },
  {
   "cell_type": "code",
   "execution_count": 2,
   "metadata": {},
   "outputs": [
    {
     "data": {
      "text/plain": [
       "'/home/neelesh/Desktop/Machine Learning A-Z New/Part 8 - Deep Learning/Section 39 - Artificial Neural Networks (ANN)'"
      ]
     },
     "execution_count": 2,
     "metadata": {},
     "output_type": "execute_result"
    }
   ],
   "source": [
    "pwd #to check the working directory"
   ]
  },
  {
   "cell_type": "code",
   "execution_count": 3,
   "metadata": {},
   "outputs": [],
   "source": [
    "df=pd.read_csv(\"Churn_Modelling.csv\")"
   ]
  },
  {
   "cell_type": "code",
   "execution_count": 4,
   "metadata": {},
   "outputs": [
    {
     "data": {
      "text/html": [
       "<div>\n",
       "<style scoped>\n",
       "    .dataframe tbody tr th:only-of-type {\n",
       "        vertical-align: middle;\n",
       "    }\n",
       "\n",
       "    .dataframe tbody tr th {\n",
       "        vertical-align: top;\n",
       "    }\n",
       "\n",
       "    .dataframe thead th {\n",
       "        text-align: right;\n",
       "    }\n",
       "</style>\n",
       "<table border=\"1\" class=\"dataframe\">\n",
       "  <thead>\n",
       "    <tr style=\"text-align: right;\">\n",
       "      <th></th>\n",
       "      <th>RowNumber</th>\n",
       "      <th>CustomerId</th>\n",
       "      <th>Surname</th>\n",
       "      <th>CreditScore</th>\n",
       "      <th>Geography</th>\n",
       "      <th>Gender</th>\n",
       "      <th>Age</th>\n",
       "      <th>Tenure</th>\n",
       "      <th>Balance</th>\n",
       "      <th>NumOfProducts</th>\n",
       "      <th>HasCrCard</th>\n",
       "      <th>IsActiveMember</th>\n",
       "      <th>EstimatedSalary</th>\n",
       "      <th>Exited</th>\n",
       "    </tr>\n",
       "  </thead>\n",
       "  <tbody>\n",
       "    <tr>\n",
       "      <th>0</th>\n",
       "      <td>1</td>\n",
       "      <td>15634602</td>\n",
       "      <td>Hargrave</td>\n",
       "      <td>619</td>\n",
       "      <td>France</td>\n",
       "      <td>Female</td>\n",
       "      <td>42</td>\n",
       "      <td>2</td>\n",
       "      <td>0.00</td>\n",
       "      <td>1</td>\n",
       "      <td>1</td>\n",
       "      <td>1</td>\n",
       "      <td>101348.88</td>\n",
       "      <td>1</td>\n",
       "    </tr>\n",
       "    <tr>\n",
       "      <th>1</th>\n",
       "      <td>2</td>\n",
       "      <td>15647311</td>\n",
       "      <td>Hill</td>\n",
       "      <td>608</td>\n",
       "      <td>Spain</td>\n",
       "      <td>Female</td>\n",
       "      <td>41</td>\n",
       "      <td>1</td>\n",
       "      <td>83807.86</td>\n",
       "      <td>1</td>\n",
       "      <td>0</td>\n",
       "      <td>1</td>\n",
       "      <td>112542.58</td>\n",
       "      <td>0</td>\n",
       "    </tr>\n",
       "    <tr>\n",
       "      <th>2</th>\n",
       "      <td>3</td>\n",
       "      <td>15619304</td>\n",
       "      <td>Onio</td>\n",
       "      <td>502</td>\n",
       "      <td>France</td>\n",
       "      <td>Female</td>\n",
       "      <td>42</td>\n",
       "      <td>8</td>\n",
       "      <td>159660.80</td>\n",
       "      <td>3</td>\n",
       "      <td>1</td>\n",
       "      <td>0</td>\n",
       "      <td>113931.57</td>\n",
       "      <td>1</td>\n",
       "    </tr>\n",
       "    <tr>\n",
       "      <th>3</th>\n",
       "      <td>4</td>\n",
       "      <td>15701354</td>\n",
       "      <td>Boni</td>\n",
       "      <td>699</td>\n",
       "      <td>France</td>\n",
       "      <td>Female</td>\n",
       "      <td>39</td>\n",
       "      <td>1</td>\n",
       "      <td>0.00</td>\n",
       "      <td>2</td>\n",
       "      <td>0</td>\n",
       "      <td>0</td>\n",
       "      <td>93826.63</td>\n",
       "      <td>0</td>\n",
       "    </tr>\n",
       "    <tr>\n",
       "      <th>4</th>\n",
       "      <td>5</td>\n",
       "      <td>15737888</td>\n",
       "      <td>Mitchell</td>\n",
       "      <td>850</td>\n",
       "      <td>Spain</td>\n",
       "      <td>Female</td>\n",
       "      <td>43</td>\n",
       "      <td>2</td>\n",
       "      <td>125510.82</td>\n",
       "      <td>1</td>\n",
       "      <td>1</td>\n",
       "      <td>1</td>\n",
       "      <td>79084.10</td>\n",
       "      <td>0</td>\n",
       "    </tr>\n",
       "    <tr>\n",
       "      <th>5</th>\n",
       "      <td>6</td>\n",
       "      <td>15574012</td>\n",
       "      <td>Chu</td>\n",
       "      <td>645</td>\n",
       "      <td>Spain</td>\n",
       "      <td>Male</td>\n",
       "      <td>44</td>\n",
       "      <td>8</td>\n",
       "      <td>113755.78</td>\n",
       "      <td>2</td>\n",
       "      <td>1</td>\n",
       "      <td>0</td>\n",
       "      <td>149756.71</td>\n",
       "      <td>1</td>\n",
       "    </tr>\n",
       "    <tr>\n",
       "      <th>6</th>\n",
       "      <td>7</td>\n",
       "      <td>15592531</td>\n",
       "      <td>Bartlett</td>\n",
       "      <td>822</td>\n",
       "      <td>France</td>\n",
       "      <td>Male</td>\n",
       "      <td>50</td>\n",
       "      <td>7</td>\n",
       "      <td>0.00</td>\n",
       "      <td>2</td>\n",
       "      <td>1</td>\n",
       "      <td>1</td>\n",
       "      <td>10062.80</td>\n",
       "      <td>0</td>\n",
       "    </tr>\n",
       "    <tr>\n",
       "      <th>7</th>\n",
       "      <td>8</td>\n",
       "      <td>15656148</td>\n",
       "      <td>Obinna</td>\n",
       "      <td>376</td>\n",
       "      <td>Germany</td>\n",
       "      <td>Female</td>\n",
       "      <td>29</td>\n",
       "      <td>4</td>\n",
       "      <td>115046.74</td>\n",
       "      <td>4</td>\n",
       "      <td>1</td>\n",
       "      <td>0</td>\n",
       "      <td>119346.88</td>\n",
       "      <td>1</td>\n",
       "    </tr>\n",
       "    <tr>\n",
       "      <th>8</th>\n",
       "      <td>9</td>\n",
       "      <td>15792365</td>\n",
       "      <td>He</td>\n",
       "      <td>501</td>\n",
       "      <td>France</td>\n",
       "      <td>Male</td>\n",
       "      <td>44</td>\n",
       "      <td>4</td>\n",
       "      <td>142051.07</td>\n",
       "      <td>2</td>\n",
       "      <td>0</td>\n",
       "      <td>1</td>\n",
       "      <td>74940.50</td>\n",
       "      <td>0</td>\n",
       "    </tr>\n",
       "    <tr>\n",
       "      <th>9</th>\n",
       "      <td>10</td>\n",
       "      <td>15592389</td>\n",
       "      <td>H?</td>\n",
       "      <td>684</td>\n",
       "      <td>France</td>\n",
       "      <td>Male</td>\n",
       "      <td>27</td>\n",
       "      <td>2</td>\n",
       "      <td>134603.88</td>\n",
       "      <td>1</td>\n",
       "      <td>1</td>\n",
       "      <td>1</td>\n",
       "      <td>71725.73</td>\n",
       "      <td>0</td>\n",
       "    </tr>\n",
       "  </tbody>\n",
       "</table>\n",
       "</div>"
      ],
      "text/plain": [
       "   RowNumber  CustomerId   Surname  CreditScore Geography  Gender  Age  \\\n",
       "0          1    15634602  Hargrave          619    France  Female   42   \n",
       "1          2    15647311      Hill          608     Spain  Female   41   \n",
       "2          3    15619304      Onio          502    France  Female   42   \n",
       "3          4    15701354      Boni          699    France  Female   39   \n",
       "4          5    15737888  Mitchell          850     Spain  Female   43   \n",
       "5          6    15574012       Chu          645     Spain    Male   44   \n",
       "6          7    15592531  Bartlett          822    France    Male   50   \n",
       "7          8    15656148    Obinna          376   Germany  Female   29   \n",
       "8          9    15792365        He          501    France    Male   44   \n",
       "9         10    15592389        H?          684    France    Male   27   \n",
       "\n",
       "   Tenure    Balance  NumOfProducts  HasCrCard  IsActiveMember  \\\n",
       "0       2       0.00              1          1               1   \n",
       "1       1   83807.86              1          0               1   \n",
       "2       8  159660.80              3          1               0   \n",
       "3       1       0.00              2          0               0   \n",
       "4       2  125510.82              1          1               1   \n",
       "5       8  113755.78              2          1               0   \n",
       "6       7       0.00              2          1               1   \n",
       "7       4  115046.74              4          1               0   \n",
       "8       4  142051.07              2          0               1   \n",
       "9       2  134603.88              1          1               1   \n",
       "\n",
       "   EstimatedSalary  Exited  \n",
       "0        101348.88       1  \n",
       "1        112542.58       0  \n",
       "2        113931.57       1  \n",
       "3         93826.63       0  \n",
       "4         79084.10       0  \n",
       "5        149756.71       1  \n",
       "6         10062.80       0  \n",
       "7        119346.88       1  \n",
       "8         74940.50       0  \n",
       "9         71725.73       0  "
      ]
     },
     "execution_count": 4,
     "metadata": {},
     "output_type": "execute_result"
    }
   ],
   "source": [
    "#showing the first ten rows of the dataset\n",
    "df.head(10)"
   ]
  },
  {
   "cell_type": "code",
   "execution_count": 5,
   "metadata": {},
   "outputs": [
    {
     "data": {
      "text/plain": [
       "Index(['RowNumber', 'CustomerId', 'Surname', 'CreditScore', 'Geography',\n",
       "       'Gender', 'Age', 'Tenure', 'Balance', 'NumOfProducts', 'HasCrCard',\n",
       "       'IsActiveMember', 'EstimatedSalary', 'Exited'],\n",
       "      dtype='object')"
      ]
     },
     "execution_count": 5,
     "metadata": {},
     "output_type": "execute_result"
    }
   ],
   "source": [
    "#checking the number of columns\n",
    "df.columns"
   ]
  },
  {
   "cell_type": "code",
   "execution_count": 6,
   "metadata": {},
   "outputs": [
    {
     "data": {
      "text/plain": [
       "(10000, 14)"
      ]
     },
     "execution_count": 6,
     "metadata": {},
     "output_type": "execute_result"
    }
   ],
   "source": [
    "#checking the number of rows and columns\n",
    "df.shape"
   ]
  },
  {
   "cell_type": "markdown",
   "metadata": {},
   "source": [
    "# We have 10000 Rows and 14 Columns\n"
   ]
  },
  {
   "cell_type": "code",
   "execution_count": 7,
   "metadata": {},
   "outputs": [
    {
     "data": {
      "text/html": [
       "<div>\n",
       "<style scoped>\n",
       "    .dataframe tbody tr th:only-of-type {\n",
       "        vertical-align: middle;\n",
       "    }\n",
       "\n",
       "    .dataframe tbody tr th {\n",
       "        vertical-align: top;\n",
       "    }\n",
       "\n",
       "    .dataframe thead th {\n",
       "        text-align: right;\n",
       "    }\n",
       "</style>\n",
       "<table border=\"1\" class=\"dataframe\">\n",
       "  <thead>\n",
       "    <tr style=\"text-align: right;\">\n",
       "      <th></th>\n",
       "      <th>RowNumber</th>\n",
       "      <th>CustomerId</th>\n",
       "      <th>CreditScore</th>\n",
       "      <th>Age</th>\n",
       "      <th>Tenure</th>\n",
       "      <th>Balance</th>\n",
       "      <th>NumOfProducts</th>\n",
       "      <th>HasCrCard</th>\n",
       "      <th>IsActiveMember</th>\n",
       "      <th>EstimatedSalary</th>\n",
       "      <th>Exited</th>\n",
       "    </tr>\n",
       "  </thead>\n",
       "  <tbody>\n",
       "    <tr>\n",
       "      <th>count</th>\n",
       "      <td>10000.00000</td>\n",
       "      <td>1.000000e+04</td>\n",
       "      <td>10000.000000</td>\n",
       "      <td>10000.000000</td>\n",
       "      <td>10000.000000</td>\n",
       "      <td>10000.000000</td>\n",
       "      <td>10000.000000</td>\n",
       "      <td>10000.00000</td>\n",
       "      <td>10000.000000</td>\n",
       "      <td>10000.000000</td>\n",
       "      <td>10000.000000</td>\n",
       "    </tr>\n",
       "    <tr>\n",
       "      <th>mean</th>\n",
       "      <td>5000.50000</td>\n",
       "      <td>1.569094e+07</td>\n",
       "      <td>650.528800</td>\n",
       "      <td>38.921800</td>\n",
       "      <td>5.012800</td>\n",
       "      <td>76485.889288</td>\n",
       "      <td>1.530200</td>\n",
       "      <td>0.70550</td>\n",
       "      <td>0.515100</td>\n",
       "      <td>100090.239881</td>\n",
       "      <td>0.203700</td>\n",
       "    </tr>\n",
       "    <tr>\n",
       "      <th>std</th>\n",
       "      <td>2886.89568</td>\n",
       "      <td>7.193619e+04</td>\n",
       "      <td>96.653299</td>\n",
       "      <td>10.487806</td>\n",
       "      <td>2.892174</td>\n",
       "      <td>62397.405202</td>\n",
       "      <td>0.581654</td>\n",
       "      <td>0.45584</td>\n",
       "      <td>0.499797</td>\n",
       "      <td>57510.492818</td>\n",
       "      <td>0.402769</td>\n",
       "    </tr>\n",
       "    <tr>\n",
       "      <th>min</th>\n",
       "      <td>1.00000</td>\n",
       "      <td>1.556570e+07</td>\n",
       "      <td>350.000000</td>\n",
       "      <td>18.000000</td>\n",
       "      <td>0.000000</td>\n",
       "      <td>0.000000</td>\n",
       "      <td>1.000000</td>\n",
       "      <td>0.00000</td>\n",
       "      <td>0.000000</td>\n",
       "      <td>11.580000</td>\n",
       "      <td>0.000000</td>\n",
       "    </tr>\n",
       "    <tr>\n",
       "      <th>25%</th>\n",
       "      <td>2500.75000</td>\n",
       "      <td>1.562853e+07</td>\n",
       "      <td>584.000000</td>\n",
       "      <td>32.000000</td>\n",
       "      <td>3.000000</td>\n",
       "      <td>0.000000</td>\n",
       "      <td>1.000000</td>\n",
       "      <td>0.00000</td>\n",
       "      <td>0.000000</td>\n",
       "      <td>51002.110000</td>\n",
       "      <td>0.000000</td>\n",
       "    </tr>\n",
       "    <tr>\n",
       "      <th>50%</th>\n",
       "      <td>5000.50000</td>\n",
       "      <td>1.569074e+07</td>\n",
       "      <td>652.000000</td>\n",
       "      <td>37.000000</td>\n",
       "      <td>5.000000</td>\n",
       "      <td>97198.540000</td>\n",
       "      <td>1.000000</td>\n",
       "      <td>1.00000</td>\n",
       "      <td>1.000000</td>\n",
       "      <td>100193.915000</td>\n",
       "      <td>0.000000</td>\n",
       "    </tr>\n",
       "    <tr>\n",
       "      <th>75%</th>\n",
       "      <td>7500.25000</td>\n",
       "      <td>1.575323e+07</td>\n",
       "      <td>718.000000</td>\n",
       "      <td>44.000000</td>\n",
       "      <td>7.000000</td>\n",
       "      <td>127644.240000</td>\n",
       "      <td>2.000000</td>\n",
       "      <td>1.00000</td>\n",
       "      <td>1.000000</td>\n",
       "      <td>149388.247500</td>\n",
       "      <td>0.000000</td>\n",
       "    </tr>\n",
       "    <tr>\n",
       "      <th>max</th>\n",
       "      <td>10000.00000</td>\n",
       "      <td>1.581569e+07</td>\n",
       "      <td>850.000000</td>\n",
       "      <td>92.000000</td>\n",
       "      <td>10.000000</td>\n",
       "      <td>250898.090000</td>\n",
       "      <td>4.000000</td>\n",
       "      <td>1.00000</td>\n",
       "      <td>1.000000</td>\n",
       "      <td>199992.480000</td>\n",
       "      <td>1.000000</td>\n",
       "    </tr>\n",
       "  </tbody>\n",
       "</table>\n",
       "</div>"
      ],
      "text/plain": [
       "         RowNumber    CustomerId   CreditScore           Age        Tenure  \\\n",
       "count  10000.00000  1.000000e+04  10000.000000  10000.000000  10000.000000   \n",
       "mean    5000.50000  1.569094e+07    650.528800     38.921800      5.012800   \n",
       "std     2886.89568  7.193619e+04     96.653299     10.487806      2.892174   \n",
       "min        1.00000  1.556570e+07    350.000000     18.000000      0.000000   \n",
       "25%     2500.75000  1.562853e+07    584.000000     32.000000      3.000000   \n",
       "50%     5000.50000  1.569074e+07    652.000000     37.000000      5.000000   \n",
       "75%     7500.25000  1.575323e+07    718.000000     44.000000      7.000000   \n",
       "max    10000.00000  1.581569e+07    850.000000     92.000000     10.000000   \n",
       "\n",
       "             Balance  NumOfProducts    HasCrCard  IsActiveMember  \\\n",
       "count   10000.000000   10000.000000  10000.00000    10000.000000   \n",
       "mean    76485.889288       1.530200      0.70550        0.515100   \n",
       "std     62397.405202       0.581654      0.45584        0.499797   \n",
       "min         0.000000       1.000000      0.00000        0.000000   \n",
       "25%         0.000000       1.000000      0.00000        0.000000   \n",
       "50%     97198.540000       1.000000      1.00000        1.000000   \n",
       "75%    127644.240000       2.000000      1.00000        1.000000   \n",
       "max    250898.090000       4.000000      1.00000        1.000000   \n",
       "\n",
       "       EstimatedSalary        Exited  \n",
       "count     10000.000000  10000.000000  \n",
       "mean     100090.239881      0.203700  \n",
       "std       57510.492818      0.402769  \n",
       "min          11.580000      0.000000  \n",
       "25%       51002.110000      0.000000  \n",
       "50%      100193.915000      0.000000  \n",
       "75%      149388.247500      0.000000  \n",
       "max      199992.480000      1.000000  "
      ]
     },
     "execution_count": 7,
     "metadata": {},
     "output_type": "execute_result"
    }
   ],
   "source": [
    "df.describe()"
   ]
  },
  {
   "cell_type": "markdown",
   "metadata": {},
   "source": [
    "# Checking For Null Missing Values"
   ]
  },
  {
   "cell_type": "code",
   "execution_count": 8,
   "metadata": {},
   "outputs": [
    {
     "data": {
      "text/plain": [
       "RowNumber          0\n",
       "CustomerId         0\n",
       "Surname            0\n",
       "CreditScore        0\n",
       "Geography          0\n",
       "Gender             0\n",
       "Age                0\n",
       "Tenure             0\n",
       "Balance            0\n",
       "NumOfProducts      0\n",
       "HasCrCard          0\n",
       "IsActiveMember     0\n",
       "EstimatedSalary    0\n",
       "Exited             0\n",
       "dtype: int64"
      ]
     },
     "execution_count": 8,
     "metadata": {},
     "output_type": "execute_result"
    }
   ],
   "source": [
    "\n",
    "df.isna().sum()"
   ]
  },
  {
   "cell_type": "markdown",
   "metadata": {},
   "source": [
    "# Checking the number of male and female who has exited the Bank\n"
   ]
  },
  {
   "cell_type": "code",
   "execution_count": 9,
   "metadata": {},
   "outputs": [
    {
     "data": {
      "text/plain": [
       "Gender\n",
       "Female    1139\n",
       "Male       898\n",
       "Name: Exited, dtype: int64"
      ]
     },
     "execution_count": 9,
     "metadata": {},
     "output_type": "execute_result"
    }
   ],
   "source": [
    "df.groupby(\"Gender\")[\"Exited\"].sum()"
   ]
  },
  {
   "cell_type": "markdown",
   "metadata": {},
   "source": [
    "# Showing the total number of customers Country Wise"
   ]
  },
  {
   "cell_type": "code",
   "execution_count": 10,
   "metadata": {},
   "outputs": [
    {
     "data": {
      "text/plain": [
       "Geography\n",
       "France     5014\n",
       "Germany    2509\n",
       "Spain      2477\n",
       "Name: Exited, dtype: int64"
      ]
     },
     "execution_count": 10,
     "metadata": {},
     "output_type": "execute_result"
    }
   ],
   "source": [
    "df.groupby([\"Geography\"])[\"Exited\"].count()"
   ]
  },
  {
   "cell_type": "markdown",
   "metadata": {},
   "source": [
    "# Showing the Customers of France Who have exited the bank"
   ]
  },
  {
   "cell_type": "code",
   "execution_count": 11,
   "metadata": {},
   "outputs": [
    {
     "data": {
      "text/plain": [
       "810"
      ]
     },
     "execution_count": 11,
     "metadata": {},
     "output_type": "execute_result"
    }
   ],
   "source": [
    "df[df[\"Geography\"]==\"France\"][\"Exited\"].sum()"
   ]
  },
  {
   "cell_type": "code",
   "execution_count": 12,
   "metadata": {},
   "outputs": [
    {
     "name": "stdout",
     "output_type": "stream",
     "text": [
      "0.16154766653370561\n"
     ]
    }
   ],
   "source": [
    "Ratio1=df[df[\"Geography\"]==\"France\"][\"Exited\"].sum()/df[df[\"Geography\"]==\"France\"][\"Exited\"].count()\n",
    "print(Ratio1)"
   ]
  },
  {
   "cell_type": "markdown",
   "metadata": {},
   "source": [
    "# We Can See that about 16% have leave the bank"
   ]
  },
  {
   "cell_type": "code",
   "execution_count": 13,
   "metadata": {},
   "outputs": [
    {
     "name": "stdout",
     "output_type": "stream",
     "text": [
      "0.32443204463929853\n"
     ]
    }
   ],
   "source": [
    "Ratio2=df[df[\"Geography\"]==\"Germany\"][\"Exited\"].sum()/df[df[\"Geography\"]==\"Germany\"][\"Exited\"].count()\n",
    "print(Ratio2)"
   ]
  },
  {
   "cell_type": "code",
   "execution_count": 14,
   "metadata": {},
   "outputs": [
    {
     "name": "stdout",
     "output_type": "stream",
     "text": [
      "0.1667339523617279\n"
     ]
    }
   ],
   "source": [
    "Ratio3=df[df[\"Geography\"]==\"Spain\"][\"Exited\"].sum()/df[df[\"Geography\"]==\"Spain\"][\"Exited\"].count()\n",
    "print(Ratio3)"
   ]
  },
  {
   "cell_type": "markdown",
   "metadata": {},
   "source": [
    "# We Can See that about 33% customers of Germany have left the Bank"
   ]
  },
  {
   "cell_type": "code",
   "execution_count": 15,
   "metadata": {},
   "outputs": [
    {
     "data": {
      "text/plain": [
       "HasCrCard\n",
       "0    2945\n",
       "1    7055\n",
       "Name: HasCrCard, dtype: int64"
      ]
     },
     "execution_count": 15,
     "metadata": {},
     "output_type": "execute_result"
    }
   ],
   "source": [
    "#showing the people\n",
    "df.groupby(\"HasCrCard\")[\"HasCrCard\"].count()\n"
   ]
  },
  {
   "cell_type": "code",
   "execution_count": 16,
   "metadata": {},
   "outputs": [
    {
     "data": {
      "text/plain": [
       "HasCrCard\n",
       "0     613\n",
       "1    1424\n",
       "Name: Exited, dtype: int64"
      ]
     },
     "execution_count": 16,
     "metadata": {},
     "output_type": "execute_result"
    }
   ],
   "source": [
    "df.groupby(\"HasCrCard\")[\"Exited\"].sum()\n"
   ]
  },
  {
   "cell_type": "markdown",
   "metadata": {},
   "source": [
    "# WE Have Anlysed Our Data Let's Print Correlation Matrix"
   ]
  },
  {
   "cell_type": "code",
   "execution_count": 17,
   "metadata": {},
   "outputs": [
    {
     "data": {
      "text/html": [
       "<div>\n",
       "<style scoped>\n",
       "    .dataframe tbody tr th:only-of-type {\n",
       "        vertical-align: middle;\n",
       "    }\n",
       "\n",
       "    .dataframe tbody tr th {\n",
       "        vertical-align: top;\n",
       "    }\n",
       "\n",
       "    .dataframe thead th {\n",
       "        text-align: right;\n",
       "    }\n",
       "</style>\n",
       "<table border=\"1\" class=\"dataframe\">\n",
       "  <thead>\n",
       "    <tr style=\"text-align: right;\">\n",
       "      <th></th>\n",
       "      <th>RowNumber</th>\n",
       "      <th>CustomerId</th>\n",
       "      <th>CreditScore</th>\n",
       "      <th>Age</th>\n",
       "      <th>Tenure</th>\n",
       "      <th>Balance</th>\n",
       "      <th>NumOfProducts</th>\n",
       "      <th>HasCrCard</th>\n",
       "      <th>IsActiveMember</th>\n",
       "      <th>EstimatedSalary</th>\n",
       "      <th>Exited</th>\n",
       "    </tr>\n",
       "  </thead>\n",
       "  <tbody>\n",
       "    <tr>\n",
       "      <th>RowNumber</th>\n",
       "      <td>1.000000</td>\n",
       "      <td>0.004202</td>\n",
       "      <td>0.005840</td>\n",
       "      <td>0.000783</td>\n",
       "      <td>-0.006495</td>\n",
       "      <td>-0.009067</td>\n",
       "      <td>0.007246</td>\n",
       "      <td>0.000599</td>\n",
       "      <td>0.012044</td>\n",
       "      <td>-0.005988</td>\n",
       "      <td>-0.016571</td>\n",
       "    </tr>\n",
       "    <tr>\n",
       "      <th>CustomerId</th>\n",
       "      <td>0.004202</td>\n",
       "      <td>1.000000</td>\n",
       "      <td>0.005308</td>\n",
       "      <td>0.009497</td>\n",
       "      <td>-0.014883</td>\n",
       "      <td>-0.012419</td>\n",
       "      <td>0.016972</td>\n",
       "      <td>-0.014025</td>\n",
       "      <td>0.001665</td>\n",
       "      <td>0.015271</td>\n",
       "      <td>-0.006248</td>\n",
       "    </tr>\n",
       "    <tr>\n",
       "      <th>CreditScore</th>\n",
       "      <td>0.005840</td>\n",
       "      <td>0.005308</td>\n",
       "      <td>1.000000</td>\n",
       "      <td>-0.003965</td>\n",
       "      <td>0.000842</td>\n",
       "      <td>0.006268</td>\n",
       "      <td>0.012238</td>\n",
       "      <td>-0.005458</td>\n",
       "      <td>0.025651</td>\n",
       "      <td>-0.001384</td>\n",
       "      <td>-0.027094</td>\n",
       "    </tr>\n",
       "    <tr>\n",
       "      <th>Age</th>\n",
       "      <td>0.000783</td>\n",
       "      <td>0.009497</td>\n",
       "      <td>-0.003965</td>\n",
       "      <td>1.000000</td>\n",
       "      <td>-0.009997</td>\n",
       "      <td>0.028308</td>\n",
       "      <td>-0.030680</td>\n",
       "      <td>-0.011721</td>\n",
       "      <td>0.085472</td>\n",
       "      <td>-0.007201</td>\n",
       "      <td>0.285323</td>\n",
       "    </tr>\n",
       "    <tr>\n",
       "      <th>Tenure</th>\n",
       "      <td>-0.006495</td>\n",
       "      <td>-0.014883</td>\n",
       "      <td>0.000842</td>\n",
       "      <td>-0.009997</td>\n",
       "      <td>1.000000</td>\n",
       "      <td>-0.012254</td>\n",
       "      <td>0.013444</td>\n",
       "      <td>0.022583</td>\n",
       "      <td>-0.028362</td>\n",
       "      <td>0.007784</td>\n",
       "      <td>-0.014001</td>\n",
       "    </tr>\n",
       "    <tr>\n",
       "      <th>Balance</th>\n",
       "      <td>-0.009067</td>\n",
       "      <td>-0.012419</td>\n",
       "      <td>0.006268</td>\n",
       "      <td>0.028308</td>\n",
       "      <td>-0.012254</td>\n",
       "      <td>1.000000</td>\n",
       "      <td>-0.304180</td>\n",
       "      <td>-0.014858</td>\n",
       "      <td>-0.010084</td>\n",
       "      <td>0.012797</td>\n",
       "      <td>0.118533</td>\n",
       "    </tr>\n",
       "    <tr>\n",
       "      <th>NumOfProducts</th>\n",
       "      <td>0.007246</td>\n",
       "      <td>0.016972</td>\n",
       "      <td>0.012238</td>\n",
       "      <td>-0.030680</td>\n",
       "      <td>0.013444</td>\n",
       "      <td>-0.304180</td>\n",
       "      <td>1.000000</td>\n",
       "      <td>0.003183</td>\n",
       "      <td>0.009612</td>\n",
       "      <td>0.014204</td>\n",
       "      <td>-0.047820</td>\n",
       "    </tr>\n",
       "    <tr>\n",
       "      <th>HasCrCard</th>\n",
       "      <td>0.000599</td>\n",
       "      <td>-0.014025</td>\n",
       "      <td>-0.005458</td>\n",
       "      <td>-0.011721</td>\n",
       "      <td>0.022583</td>\n",
       "      <td>-0.014858</td>\n",
       "      <td>0.003183</td>\n",
       "      <td>1.000000</td>\n",
       "      <td>-0.011866</td>\n",
       "      <td>-0.009933</td>\n",
       "      <td>-0.007138</td>\n",
       "    </tr>\n",
       "    <tr>\n",
       "      <th>IsActiveMember</th>\n",
       "      <td>0.012044</td>\n",
       "      <td>0.001665</td>\n",
       "      <td>0.025651</td>\n",
       "      <td>0.085472</td>\n",
       "      <td>-0.028362</td>\n",
       "      <td>-0.010084</td>\n",
       "      <td>0.009612</td>\n",
       "      <td>-0.011866</td>\n",
       "      <td>1.000000</td>\n",
       "      <td>-0.011421</td>\n",
       "      <td>-0.156128</td>\n",
       "    </tr>\n",
       "    <tr>\n",
       "      <th>EstimatedSalary</th>\n",
       "      <td>-0.005988</td>\n",
       "      <td>0.015271</td>\n",
       "      <td>-0.001384</td>\n",
       "      <td>-0.007201</td>\n",
       "      <td>0.007784</td>\n",
       "      <td>0.012797</td>\n",
       "      <td>0.014204</td>\n",
       "      <td>-0.009933</td>\n",
       "      <td>-0.011421</td>\n",
       "      <td>1.000000</td>\n",
       "      <td>0.012097</td>\n",
       "    </tr>\n",
       "    <tr>\n",
       "      <th>Exited</th>\n",
       "      <td>-0.016571</td>\n",
       "      <td>-0.006248</td>\n",
       "      <td>-0.027094</td>\n",
       "      <td>0.285323</td>\n",
       "      <td>-0.014001</td>\n",
       "      <td>0.118533</td>\n",
       "      <td>-0.047820</td>\n",
       "      <td>-0.007138</td>\n",
       "      <td>-0.156128</td>\n",
       "      <td>0.012097</td>\n",
       "      <td>1.000000</td>\n",
       "    </tr>\n",
       "  </tbody>\n",
       "</table>\n",
       "</div>"
      ],
      "text/plain": [
       "                 RowNumber  CustomerId  CreditScore       Age    Tenure  \\\n",
       "RowNumber         1.000000    0.004202     0.005840  0.000783 -0.006495   \n",
       "CustomerId        0.004202    1.000000     0.005308  0.009497 -0.014883   \n",
       "CreditScore       0.005840    0.005308     1.000000 -0.003965  0.000842   \n",
       "Age               0.000783    0.009497    -0.003965  1.000000 -0.009997   \n",
       "Tenure           -0.006495   -0.014883     0.000842 -0.009997  1.000000   \n",
       "Balance          -0.009067   -0.012419     0.006268  0.028308 -0.012254   \n",
       "NumOfProducts     0.007246    0.016972     0.012238 -0.030680  0.013444   \n",
       "HasCrCard         0.000599   -0.014025    -0.005458 -0.011721  0.022583   \n",
       "IsActiveMember    0.012044    0.001665     0.025651  0.085472 -0.028362   \n",
       "EstimatedSalary  -0.005988    0.015271    -0.001384 -0.007201  0.007784   \n",
       "Exited           -0.016571   -0.006248    -0.027094  0.285323 -0.014001   \n",
       "\n",
       "                  Balance  NumOfProducts  HasCrCard  IsActiveMember  \\\n",
       "RowNumber       -0.009067       0.007246   0.000599        0.012044   \n",
       "CustomerId      -0.012419       0.016972  -0.014025        0.001665   \n",
       "CreditScore      0.006268       0.012238  -0.005458        0.025651   \n",
       "Age              0.028308      -0.030680  -0.011721        0.085472   \n",
       "Tenure          -0.012254       0.013444   0.022583       -0.028362   \n",
       "Balance          1.000000      -0.304180  -0.014858       -0.010084   \n",
       "NumOfProducts   -0.304180       1.000000   0.003183        0.009612   \n",
       "HasCrCard       -0.014858       0.003183   1.000000       -0.011866   \n",
       "IsActiveMember  -0.010084       0.009612  -0.011866        1.000000   \n",
       "EstimatedSalary  0.012797       0.014204  -0.009933       -0.011421   \n",
       "Exited           0.118533      -0.047820  -0.007138       -0.156128   \n",
       "\n",
       "                 EstimatedSalary    Exited  \n",
       "RowNumber              -0.005988 -0.016571  \n",
       "CustomerId              0.015271 -0.006248  \n",
       "CreditScore            -0.001384 -0.027094  \n",
       "Age                    -0.007201  0.285323  \n",
       "Tenure                  0.007784 -0.014001  \n",
       "Balance                 0.012797  0.118533  \n",
       "NumOfProducts           0.014204 -0.047820  \n",
       "HasCrCard              -0.009933 -0.007138  \n",
       "IsActiveMember         -0.011421 -0.156128  \n",
       "EstimatedSalary         1.000000  0.012097  \n",
       "Exited                  0.012097  1.000000  "
      ]
     },
     "execution_count": 17,
     "metadata": {},
     "output_type": "execute_result"
    }
   ],
   "source": [
    "df.corr()"
   ]
  },
  {
   "cell_type": "code",
   "execution_count": 18,
   "metadata": {},
   "outputs": [],
   "source": [
    "#defining the X_set\n",
    "X=df.iloc[:,3:-1].values\n"
   ]
  },
  {
   "cell_type": "code",
   "execution_count": 19,
   "metadata": {},
   "outputs": [
    {
     "data": {
      "text/plain": [
       "array([[619, 'France', 'Female', ..., 1, 1, 101348.88],\n",
       "       [608, 'Spain', 'Female', ..., 0, 1, 112542.58],\n",
       "       [502, 'France', 'Female', ..., 1, 0, 113931.57],\n",
       "       ...,\n",
       "       [709, 'France', 'Female', ..., 0, 1, 42085.58],\n",
       "       [772, 'Germany', 'Male', ..., 1, 0, 92888.52],\n",
       "       [792, 'France', 'Female', ..., 1, 0, 38190.78]], dtype=object)"
      ]
     },
     "execution_count": 19,
     "metadata": {},
     "output_type": "execute_result"
    }
   ],
   "source": [
    "X"
   ]
  },
  {
   "cell_type": "code",
   "execution_count": 20,
   "metadata": {},
   "outputs": [
    {
     "data": {
      "text/plain": [
       "10"
      ]
     },
     "execution_count": 20,
     "metadata": {},
     "output_type": "execute_result"
    }
   ],
   "source": [
    "len(X[0])"
   ]
  },
  {
   "cell_type": "code",
   "execution_count": 21,
   "metadata": {},
   "outputs": [
    {
     "name": "stdout",
     "output_type": "stream",
     "text": [
      "[['France' 'Female']\n",
      " ['Spain' 'Female']\n",
      " ['France' 'Female']\n",
      " ...\n",
      " ['France' 'Female']\n",
      " ['Germany' 'Male']\n",
      " ['France' 'Female']]\n"
     ]
    }
   ],
   "source": [
    "#We Can See that we have two categorical Columns\n",
    "print(X[:,1:3])"
   ]
  },
  {
   "cell_type": "code",
   "execution_count": 22,
   "metadata": {},
   "outputs": [],
   "source": [
    "#two categotrical values\n",
    "#we have to encode them\n",
    "#Making two objecs of LableEncoder Class\n",
    "from sklearn.preprocessing import LabelEncoder,OneHotEncoder\n",
    "lb1=LabelEncoder()\n",
    "lb2=LabelEncoder()\n"
   ]
  },
  {
   "cell_type": "code",
   "execution_count": 23,
   "metadata": {},
   "outputs": [],
   "source": [
    "#created two objects of LabelEncoder because we have two categorical values\n",
    "X[:,1]=lb1.fit_transform(X[:,1])"
   ]
  },
  {
   "cell_type": "code",
   "execution_count": 24,
   "metadata": {},
   "outputs": [
    {
     "data": {
      "text/plain": [
       "array([[619, 0, 'Female', ..., 1, 1, 101348.88],\n",
       "       [608, 2, 'Female', ..., 0, 1, 112542.58],\n",
       "       [502, 0, 'Female', ..., 1, 0, 113931.57],\n",
       "       ...,\n",
       "       [709, 0, 'Female', ..., 0, 1, 42085.58],\n",
       "       [772, 1, 'Male', ..., 1, 0, 92888.52],\n",
       "       [792, 0, 'Female', ..., 1, 0, 38190.78]], dtype=object)"
      ]
     },
     "execution_count": 24,
     "metadata": {},
     "output_type": "execute_result"
    }
   ],
   "source": [
    "X"
   ]
  },
  {
   "cell_type": "code",
   "execution_count": 25,
   "metadata": {},
   "outputs": [],
   "source": [
    "X[:,2]=lb2.fit_transform(X[:,2])"
   ]
  },
  {
   "cell_type": "code",
   "execution_count": 26,
   "metadata": {},
   "outputs": [
    {
     "data": {
      "text/plain": [
       "array([[619, 0, 0, ..., 1, 1, 101348.88],\n",
       "       [608, 2, 0, ..., 0, 1, 112542.58],\n",
       "       [502, 0, 0, ..., 1, 0, 113931.57],\n",
       "       ...,\n",
       "       [709, 0, 0, ..., 0, 1, 42085.58],\n",
       "       [772, 1, 1, ..., 1, 0, 92888.52],\n",
       "       [792, 0, 0, ..., 1, 0, 38190.78]], dtype=object)"
      ]
     },
     "execution_count": 26,
     "metadata": {},
     "output_type": "execute_result"
    }
   ],
   "source": [
    "X"
   ]
  },
  {
   "cell_type": "code",
   "execution_count": 27,
   "metadata": {},
   "outputs": [],
   "source": [
    "#applying one hotencoding because we have more than two categories in the country column\n",
    "one_hot=OneHotEncoder(categorical_features=[1])"
   ]
  },
  {
   "cell_type": "code",
   "execution_count": 28,
   "metadata": {},
   "outputs": [
    {
     "name": "stderr",
     "output_type": "stream",
     "text": [
      "/home/neelesh/anaconda3/lib/python3.7/site-packages/sklearn/preprocessing/_encoders.py:371: FutureWarning: The handling of integer data will change in version 0.22. Currently, the categories are determined based on the range [0, max(values)], while in the future they will be determined based on the unique values.\n",
      "If you want the future behaviour and silence this warning, you can specify \"categories='auto'\".\n",
      "In case you used a LabelEncoder before this OneHotEncoder to convert the categories to integers, then you can now use the OneHotEncoder directly.\n",
      "  warnings.warn(msg, FutureWarning)\n",
      "/home/neelesh/anaconda3/lib/python3.7/site-packages/sklearn/preprocessing/_encoders.py:392: DeprecationWarning: The 'categorical_features' keyword is deprecated in version 0.20 and will be removed in 0.22. You can use the ColumnTransformer instead.\n",
      "  \"use the ColumnTransformer instead.\", DeprecationWarning)\n"
     ]
    }
   ],
   "source": [
    "X=one_hot.fit_transform(X).toarray()"
   ]
  },
  {
   "cell_type": "code",
   "execution_count": 29,
   "metadata": {},
   "outputs": [
    {
     "data": {
      "text/plain": [
       "array([[1.0000000e+00, 0.0000000e+00, 0.0000000e+00, ..., 1.0000000e+00,\n",
       "        1.0000000e+00, 1.0134888e+05],\n",
       "       [0.0000000e+00, 0.0000000e+00, 1.0000000e+00, ..., 0.0000000e+00,\n",
       "        1.0000000e+00, 1.1254258e+05],\n",
       "       [1.0000000e+00, 0.0000000e+00, 0.0000000e+00, ..., 1.0000000e+00,\n",
       "        0.0000000e+00, 1.1393157e+05],\n",
       "       ...,\n",
       "       [1.0000000e+00, 0.0000000e+00, 0.0000000e+00, ..., 0.0000000e+00,\n",
       "        1.0000000e+00, 4.2085580e+04],\n",
       "       [0.0000000e+00, 1.0000000e+00, 0.0000000e+00, ..., 1.0000000e+00,\n",
       "        0.0000000e+00, 9.2888520e+04],\n",
       "       [1.0000000e+00, 0.0000000e+00, 0.0000000e+00, ..., 1.0000000e+00,\n",
       "        0.0000000e+00, 3.8190780e+04]])"
      ]
     },
     "execution_count": 29,
     "metadata": {},
     "output_type": "execute_result"
    }
   ],
   "source": [
    "X\n"
   ]
  },
  {
   "cell_type": "code",
   "execution_count": 30,
   "metadata": {},
   "outputs": [
    {
     "data": {
      "text/plain": [
       "12"
      ]
     },
     "execution_count": 30,
     "metadata": {},
     "output_type": "execute_result"
    }
   ],
   "source": [
    "len(X[0])\n",
    "# we have two more columns because of those two more more countries that we have onehotencoded"
   ]
  },
  {
   "cell_type": "code",
   "execution_count": 31,
   "metadata": {},
   "outputs": [],
   "source": [
    "# to overcome the dummyvariable trap\n",
    "X=X[:,1:]\n"
   ]
  },
  {
   "cell_type": "code",
   "execution_count": 32,
   "metadata": {},
   "outputs": [
    {
     "data": {
      "text/plain": [
       "array([[0.0000000e+00, 0.0000000e+00, 6.1900000e+02, ..., 1.0000000e+00,\n",
       "        1.0000000e+00, 1.0134888e+05],\n",
       "       [0.0000000e+00, 1.0000000e+00, 6.0800000e+02, ..., 0.0000000e+00,\n",
       "        1.0000000e+00, 1.1254258e+05],\n",
       "       [0.0000000e+00, 0.0000000e+00, 5.0200000e+02, ..., 1.0000000e+00,\n",
       "        0.0000000e+00, 1.1393157e+05],\n",
       "       ...,\n",
       "       [0.0000000e+00, 0.0000000e+00, 7.0900000e+02, ..., 0.0000000e+00,\n",
       "        1.0000000e+00, 4.2085580e+04],\n",
       "       [1.0000000e+00, 0.0000000e+00, 7.7200000e+02, ..., 1.0000000e+00,\n",
       "        0.0000000e+00, 9.2888520e+04],\n",
       "       [0.0000000e+00, 0.0000000e+00, 7.9200000e+02, ..., 1.0000000e+00,\n",
       "        0.0000000e+00, 3.8190780e+04]])"
      ]
     },
     "execution_count": 32,
     "metadata": {},
     "output_type": "execute_result"
    }
   ],
   "source": [
    "X"
   ]
  },
  {
   "cell_type": "code",
   "execution_count": 33,
   "metadata": {},
   "outputs": [
    {
     "data": {
      "text/plain": [
       "11"
      ]
     },
     "execution_count": 33,
     "metadata": {},
     "output_type": "execute_result"
    }
   ],
   "source": [
    "len(X[0])"
   ]
  },
  {
   "cell_type": "code",
   "execution_count": 34,
   "metadata": {},
   "outputs": [],
   "source": [
    "y=df.iloc[:,-1].values"
   ]
  },
  {
   "cell_type": "markdown",
   "metadata": {},
   "source": [
    "# Splitting the Dataset to train and test "
   ]
  },
  {
   "cell_type": "code",
   "execution_count": 35,
   "metadata": {},
   "outputs": [],
   "source": [
    "\n",
    "from sklearn.model_selection import train_test_split\n",
    "X_train,X_test,y_train,y_test=train_test_split(X,y,random_state=0,test_size=0.2)\n",
    "\n",
    "# Here I Have keep the test_size=0.2\n",
    "# meaning the 20% will be test set and 80% training set\n",
    "#random_state so that it will keep that state,meaning on recompling\n",
    "#weights wont change"
   ]
  },
  {
   "cell_type": "code",
   "execution_count": 36,
   "metadata": {},
   "outputs": [],
   "source": [
    "#we have preprocessed the data \n",
    "#now its time to apply the algorithms\n",
    "import tensorflow "
   ]
  },
  {
   "cell_type": "markdown",
   "metadata": {},
   "source": [
    "# We Are Using Tensorflow"
   ]
  },
  {
   "cell_type": "code",
   "execution_count": 37,
   "metadata": {},
   "outputs": [
    {
     "name": "stderr",
     "output_type": "stream",
     "text": [
      "Using TensorFlow backend.\n"
     ]
    }
   ],
   "source": [
    "import keras"
   ]
  },
  {
   "cell_type": "code",
   "execution_count": 38,
   "metadata": {},
   "outputs": [],
   "source": [
    "#For Defining the Layers\n",
    "from tensorflow.keras.layers import Dense"
   ]
  },
  {
   "cell_type": "code",
   "execution_count": 39,
   "metadata": {},
   "outputs": [],
   "source": [
    "#For Defining the Model\n",
    "from tensorflow.keras.models import Sequential"
   ]
  },
  {
   "cell_type": "code",
   "execution_count": 40,
   "metadata": {},
   "outputs": [],
   "source": [
    "#Created An Object of Model\n",
    "regressor=Sequential()"
   ]
  },
  {
   "cell_type": "markdown",
   "metadata": {},
   "source": [
    "# Defining The Layers"
   ]
  },
  {
   "cell_type": "code",
   "execution_count": 41,
   "metadata": {},
   "outputs": [],
   "source": [
    "regressor.add(Dense(units=6,input_shape=(11,), activation='relu'))\n",
    "#units means the Neurons on the Outer(Here Hidden Layer)"
   ]
  },
  {
   "cell_type": "code",
   "execution_count": 42,
   "metadata": {},
   "outputs": [],
   "source": [
    "regressor.add(Dense(units=6,activation='relu'))\n",
    "#We need not to define the input_shape here because the now it is known \n",
    "#to the layer as it will be accepting 6 outputs from the Previous Layer"
   ]
  },
  {
   "cell_type": "code",
   "execution_count": 43,
   "metadata": {},
   "outputs": [],
   "source": [
    "regressor.add(Dense(units=1,activation='sigmoid'))\n",
    "#output Layer as Binary output so using Activation Function as sigmoid"
   ]
  },
  {
   "cell_type": "code",
   "execution_count": 44,
   "metadata": {},
   "outputs": [],
   "source": [
    "regressor.compile(optimizer='adam',loss='binary_crossentropy',metrics=['accuracy'])"
   ]
  },
  {
   "cell_type": "code",
   "execution_count": 45,
   "metadata": {},
   "outputs": [
    {
     "name": "stdout",
     "output_type": "stream",
     "text": [
      "Train on 8000 samples\n",
      "Epoch 1/25\n",
      "8000/8000 [==============================] - 2s 268us/sample - loss: 18056.0557 - accuracy: 0.3609\n",
      "Epoch 2/25\n",
      "8000/8000 [==============================] - 1s 74us/sample - loss: 454.3707 - accuracy: 0.5325\n",
      "Epoch 3/25\n",
      "8000/8000 [==============================] - 1s 74us/sample - loss: 31.2001 - accuracy: 0.7041\n",
      "Epoch 4/25\n",
      "8000/8000 [==============================] - 1s 74us/sample - loss: 27.9154 - accuracy: 0.7042\n",
      "Epoch 5/25\n",
      "8000/8000 [==============================] - 1s 85us/sample - loss: 28.2608 - accuracy: 0.7114\n",
      "Epoch 6/25\n",
      "8000/8000 [==============================] - 1s 120us/sample - loss: 16.3092 - accuracy: 0.7099\n",
      "Epoch 7/25\n",
      "8000/8000 [==============================] - 1s 102us/sample - loss: 18.1775 - accuracy: 0.7120\n",
      "Epoch 8/25\n",
      "8000/8000 [==============================] - 1s 90us/sample - loss: 20.3923 - accuracy: 0.7103\n",
      "Epoch 9/25\n",
      "8000/8000 [==============================] - 1s 93us/sample - loss: 21.2891 - accuracy: 0.7191\n",
      "Epoch 10/25\n",
      "8000/8000 [==============================] - 1s 82us/sample - loss: 19.3149 - accuracy: 0.7129\n",
      "Epoch 11/25\n",
      "8000/8000 [==============================] - 1s 89us/sample - loss: 17.2841 - accuracy: 0.7171\n",
      "Epoch 12/25\n",
      "8000/8000 [==============================] - 1s 95us/sample - loss: 15.8139 - accuracy: 0.7209\n",
      "Epoch 13/25\n",
      "8000/8000 [==============================] - 1s 102us/sample - loss: 16.5772 - accuracy: 0.7211\n",
      "Epoch 14/25\n",
      "8000/8000 [==============================] - 1s 76us/sample - loss: 25.2078 - accuracy: 0.7207\n",
      "Epoch 15/25\n",
      "8000/8000 [==============================] - 1s 90us/sample - loss: 17.2567 - accuracy: 0.7150\n",
      "Epoch 16/25\n",
      "8000/8000 [==============================] - 1s 80us/sample - loss: 18.4798 - accuracy: 0.7170\n",
      "Epoch 17/25\n",
      "8000/8000 [==============================] - 1s 76us/sample - loss: 21.1700 - accuracy: 0.7174\n",
      "Epoch 18/25\n",
      "8000/8000 [==============================] - 1s 86us/sample - loss: 21.8436 - accuracy: 0.7193\n",
      "Epoch 19/25\n",
      "8000/8000 [==============================] - 1s 81us/sample - loss: 17.3985 - accuracy: 0.7185\n",
      "Epoch 20/25\n",
      "8000/8000 [==============================] - 1s 90us/sample - loss: 25.9676 - accuracy: 0.7161\n",
      "Epoch 21/25\n",
      "8000/8000 [==============================] - 1s 97us/sample - loss: 31.4550 - accuracy: 0.7212\n",
      "Epoch 22/25\n",
      "8000/8000 [==============================] - 1s 78us/sample - loss: 19.2052 - accuracy: 0.7151\n",
      "Epoch 23/25\n",
      "8000/8000 [==============================] - 1s 99us/sample - loss: 16.4195 - accuracy: 0.7191\n",
      "Epoch 24/25\n",
      "8000/8000 [==============================] - 1s 92us/sample - loss: 18.0179 - accuracy: 0.7178\n",
      "Epoch 25/25\n",
      "8000/8000 [==============================] - 1s 96us/sample - loss: 14.7527 - accuracy: 0.7224\n"
     ]
    },
    {
     "data": {
      "text/plain": [
       "<tensorflow.python.keras.callbacks.History at 0x7f79f00c4390>"
      ]
     },
     "execution_count": 45,
     "metadata": {},
     "output_type": "execute_result"
    }
   ],
   "source": [
    "\n",
    "regressor.fit(X_train,y_train,batch_size=32,epochs=25)"
   ]
  },
  {
   "cell_type": "markdown",
   "metadata": {},
   "source": [
    "#  We can see that we have achieved accuracy 72% in 25 epochs"
   ]
  },
  {
   "cell_type": "code",
   "execution_count": 46,
   "metadata": {},
   "outputs": [],
   "source": [
    "def build_classifier():\n",
    "    classifier=Sequential()\n",
    "    classifier.add(Dense(units=6,activation='relu',input_dim=11))\n",
    "    \n",
    "    classifier.add(Dense(units=6,activation='relu'))\n",
    "    \n",
    "    classifier.add(Dense(units=1,activation='sigmoid'))\n",
    "    \n",
    "    classifier.compile(optimizer='adam',loss='binary_crossentropy',metrics=['accuracy'])\n",
    "    return classifier\n",
    "                   "
   ]
  },
  {
   "cell_type": "code",
   "execution_count": 57,
   "metadata": {},
   "outputs": [
    {
     "name": "stdout",
     "output_type": "stream",
     "text": [
      "[[False]\n",
      " [False]\n",
      " [False]\n",
      " ...\n",
      " [False]\n",
      " [False]\n",
      " [False]]\n",
      "[[1595    0]\n",
      " [ 404    1]]\n"
     ]
    }
   ],
   "source": [
    "y_pred=regressor.predict(X_test)\n",
    "y_pred=(y_pred>0.5)\n",
    "print(y_pred)\n",
    "from sklearn.metrics import confusion_matrix\n",
    "print(confusion_matrix(y_test,y_pred))"
   ]
  },
  {
   "cell_type": "code",
   "execution_count": 58,
   "metadata": {},
   "outputs": [],
   "source": [
    "from keras.wrappers.scikit_learn import KerasClassifier\n",
    "classifier=KerasClassifier(build_fn=build_classifier)"
   ]
  },
  {
   "cell_type": "code",
   "execution_count": 59,
   "metadata": {},
   "outputs": [
    {
     "name": "stdout",
     "output_type": "stream",
     "text": [
      "Train on 8000 samples\n",
      "Epoch 1/100\n",
      "8000/8000 [==============================] - 1s 115us/sample - loss: 3775.8726 - accuracy: 0.7295\n",
      "Epoch 2/100\n",
      "8000/8000 [==============================] - 0s 61us/sample - loss: 634.9242 - accuracy: 0.6432\n",
      "Epoch 3/100\n",
      "8000/8000 [==============================] - 0s 61us/sample - loss: 211.1985 - accuracy: 0.6466\n",
      "Epoch 4/100\n",
      "8000/8000 [==============================] - 0s 60us/sample - loss: 68.7319 - accuracy: 0.6689\n",
      "Epoch 5/100\n",
      "8000/8000 [==============================] - 0s 61us/sample - loss: 23.2057 - accuracy: 0.6799\n",
      "Epoch 6/100\n",
      "8000/8000 [==============================] - 0s 61us/sample - loss: 14.8912 - accuracy: 0.6823\n",
      "Epoch 7/100\n",
      "8000/8000 [==============================] - 0s 62us/sample - loss: 9.8039 - accuracy: 0.6873\n",
      "Epoch 8/100\n",
      "8000/8000 [==============================] - 0s 58us/sample - loss: 10.6562 - accuracy: 0.6904\n",
      "Epoch 9/100\n",
      "8000/8000 [==============================] - 0s 62us/sample - loss: 11.8045 - accuracy: 0.6808\n",
      "Epoch 10/100\n",
      "8000/8000 [==============================] - 0s 61us/sample - loss: 8.5996 - accuracy: 0.6802\n",
      "Epoch 11/100\n",
      "8000/8000 [==============================] - 0s 60us/sample - loss: 8.7982 - accuracy: 0.6839\n",
      "Epoch 12/100\n",
      "8000/8000 [==============================] - 0s 61us/sample - loss: 8.5784 - accuracy: 0.6780\n",
      "Epoch 13/100\n",
      "8000/8000 [==============================] - 0s 60us/sample - loss: 7.2155 - accuracy: 0.6834\n",
      "Epoch 14/100\n",
      "8000/8000 [==============================] - 1s 66us/sample - loss: 7.6402 - accuracy: 0.6810\n",
      "Epoch 15/100\n",
      "8000/8000 [==============================] - 1s 63us/sample - loss: 7.4368 - accuracy: 0.6931\n",
      "Epoch 16/100\n",
      "8000/8000 [==============================] - 0s 61us/sample - loss: 5.9231 - accuracy: 0.6826\n",
      "Epoch 17/100\n",
      "8000/8000 [==============================] - 0s 61us/sample - loss: 6.4102 - accuracy: 0.6867\n",
      "Epoch 18/100\n",
      "8000/8000 [==============================] - 1s 64us/sample - loss: 5.4960 - accuracy: 0.6831\n",
      "Epoch 19/100\n",
      "8000/8000 [==============================] - 1s 66us/sample - loss: 5.5620 - accuracy: 0.6827\n",
      "Epoch 20/100\n",
      "8000/8000 [==============================] - 0s 62us/sample - loss: 6.3195 - accuracy: 0.6877\n",
      "Epoch 21/100\n",
      "8000/8000 [==============================] - 1s 63us/sample - loss: 5.0992 - accuracy: 0.6835\n",
      "Epoch 22/100\n",
      "8000/8000 [==============================] - 1s 63us/sample - loss: 5.4199 - accuracy: 0.6886\n",
      "Epoch 23/100\n",
      "8000/8000 [==============================] - 0s 61us/sample - loss: 3.5335 - accuracy: 0.6874\n",
      "Epoch 24/100\n",
      "8000/8000 [==============================] - 0s 62us/sample - loss: 2.9996 - accuracy: 0.7004\n",
      "Epoch 25/100\n",
      "8000/8000 [==============================] - 0s 61us/sample - loss: 2.7280 - accuracy: 0.6936\n",
      "Epoch 26/100\n",
      "8000/8000 [==============================] - 1s 65us/sample - loss: 2.4954 - accuracy: 0.6998\n",
      "Epoch 27/100\n",
      "8000/8000 [==============================] - 0s 58us/sample - loss: 2.1761 - accuracy: 0.6844\n",
      "Epoch 28/100\n",
      "8000/8000 [==============================] - 0s 62us/sample - loss: 1.4334 - accuracy: 0.6985\n",
      "Epoch 29/100\n",
      "8000/8000 [==============================] - 0s 59us/sample - loss: 1.3589 - accuracy: 0.7084\n",
      "Epoch 30/100\n",
      "8000/8000 [==============================] - 1s 64us/sample - loss: 1.2306 - accuracy: 0.7124\n",
      "Epoch 31/100\n",
      "8000/8000 [==============================] - 0s 62us/sample - loss: 1.0323 - accuracy: 0.7176\n",
      "Epoch 32/100\n",
      "8000/8000 [==============================] - 1s 63us/sample - loss: 0.8527 - accuracy: 0.7246\n",
      "Epoch 33/100\n",
      "8000/8000 [==============================] - 1s 66us/sample - loss: 1.1322 - accuracy: 0.7291\n",
      "Epoch 34/100\n",
      "8000/8000 [==============================] - 0s 61us/sample - loss: 0.8952 - accuracy: 0.7460\n",
      "Epoch 35/100\n",
      "8000/8000 [==============================] - 0s 62us/sample - loss: 0.9317 - accuracy: 0.7228\n",
      "Epoch 36/100\n",
      "8000/8000 [==============================] - 0s 62us/sample - loss: 0.7124 - accuracy: 0.7540\n",
      "Epoch 37/100\n",
      "8000/8000 [==============================] - 0s 60us/sample - loss: 0.7806 - accuracy: 0.7579\n",
      "Epoch 38/100\n",
      "8000/8000 [==============================] - 1s 64us/sample - loss: 0.6903 - accuracy: 0.7648\n",
      "Epoch 39/100\n",
      "8000/8000 [==============================] - 0s 62us/sample - loss: 0.7101 - accuracy: 0.7674\n",
      "Epoch 40/100\n",
      "8000/8000 [==============================] - 0s 60us/sample - loss: 0.7950 - accuracy: 0.7339\n",
      "Epoch 41/100\n",
      "8000/8000 [==============================] - 0s 60us/sample - loss: 0.6546 - accuracy: 0.7717\n",
      "Epoch 42/100\n",
      "8000/8000 [==============================] - 0s 62us/sample - loss: 0.6088 - accuracy: 0.7824\n",
      "Epoch 43/100\n",
      "8000/8000 [==============================] - 0s 61us/sample - loss: 0.5835 - accuracy: 0.7782\n",
      "Epoch 44/100\n",
      "8000/8000 [==============================] - 1s 82us/sample - loss: 0.5980 - accuracy: 0.7769\n",
      "Epoch 45/100\n",
      "8000/8000 [==============================] - 1s 64us/sample - loss: 0.5913 - accuracy: 0.7728\n",
      "Epoch 46/100\n",
      "8000/8000 [==============================] - 1s 101us/sample - loss: 0.6002 - accuracy: 0.7803\n",
      "Epoch 47/100\n",
      "8000/8000 [==============================] - 1s 65us/sample - loss: 0.5701 - accuracy: 0.7831\n",
      "Epoch 48/100\n",
      "8000/8000 [==============================] - 0s 60us/sample - loss: 0.5314 - accuracy: 0.7887\n",
      "Epoch 49/100\n",
      "8000/8000 [==============================] - 0s 62us/sample - loss: 0.5882 - accuracy: 0.7829\n",
      "Epoch 50/100\n",
      "8000/8000 [==============================] - 0s 62us/sample - loss: 0.5440 - accuracy: 0.7872\n",
      "Epoch 51/100\n",
      "8000/8000 [==============================] - 1s 79us/sample - loss: 0.5253 - accuracy: 0.7903\n",
      "Epoch 52/100\n",
      "8000/8000 [==============================] - 1s 78us/sample - loss: 0.5312 - accuracy: 0.7887\n",
      "Epoch 53/100\n",
      "8000/8000 [==============================] - 0s 60us/sample - loss: 0.5519 - accuracy: 0.7866\n",
      "Epoch 54/100\n",
      "8000/8000 [==============================] - 1s 63us/sample - loss: 0.5086 - accuracy: 0.7958\n",
      "Epoch 55/100\n",
      "8000/8000 [==============================] - 0s 60us/sample - loss: 0.5062 - accuracy: 0.7960\n",
      "Epoch 56/100\n",
      "8000/8000 [==============================] - 1s 85us/sample - loss: 0.5060 - accuracy: 0.7960\n",
      "Epoch 57/100\n",
      "8000/8000 [==============================] - 1s 66us/sample - loss: 0.5059 - accuracy: 0.7960\n",
      "Epoch 58/100\n",
      "8000/8000 [==============================] - 0s 60us/sample - loss: 0.5059 - accuracy: 0.7960\n",
      "Epoch 59/100\n",
      "8000/8000 [==============================] - 0s 60us/sample - loss: 0.5059 - accuracy: 0.7960\n",
      "Epoch 60/100\n",
      "8000/8000 [==============================] - 0s 62us/sample - loss: 0.5059 - accuracy: 0.7960\n",
      "Epoch 61/100\n",
      "8000/8000 [==============================] - 1s 64us/sample - loss: 0.5060 - accuracy: 0.7960\n",
      "Epoch 62/100\n",
      "8000/8000 [==============================] - 1s 80us/sample - loss: 0.5059 - accuracy: 0.7960\n",
      "Epoch 63/100\n",
      "8000/8000 [==============================] - 1s 81us/sample - loss: 0.5059 - accuracy: 0.7960\n",
      "Epoch 64/100\n",
      "8000/8000 [==============================] - 1s 81us/sample - loss: 0.5060 - accuracy: 0.7960\n",
      "Epoch 65/100\n",
      "8000/8000 [==============================] - 1s 77us/sample - loss: 0.5059 - accuracy: 0.7960\n",
      "Epoch 66/100\n",
      "8000/8000 [==============================] - 1s 82us/sample - loss: 0.5059 - accuracy: 0.7960\n",
      "Epoch 67/100\n",
      "8000/8000 [==============================] - 1s 83us/sample - loss: 0.5059 - accuracy: 0.7960\n",
      "Epoch 68/100\n",
      "8000/8000 [==============================] - 1s 74us/sample - loss: 0.5060 - accuracy: 0.7960\n",
      "Epoch 69/100\n",
      "8000/8000 [==============================] - 0s 60us/sample - loss: 0.5059 - accuracy: 0.7960\n",
      "Epoch 70/100\n",
      "8000/8000 [==============================] - 0s 60us/sample - loss: 0.5060 - accuracy: 0.7960\n",
      "Epoch 71/100\n",
      "8000/8000 [==============================] - 0s 60us/sample - loss: 0.5059 - accuracy: 0.7960\n",
      "Epoch 72/100\n",
      "8000/8000 [==============================] - 1s 64us/sample - loss: 0.5060 - accuracy: 0.7960\n",
      "Epoch 73/100\n",
      "8000/8000 [==============================] - 0s 62us/sample - loss: 0.5059 - accuracy: 0.7960\n",
      "Epoch 74/100\n",
      "8000/8000 [==============================] - 0s 61us/sample - loss: 0.5060 - accuracy: 0.7960\n",
      "Epoch 75/100\n",
      "8000/8000 [==============================] - 1s 65us/sample - loss: 0.5059 - accuracy: 0.7960\n",
      "Epoch 76/100\n",
      "8000/8000 [==============================] - 1s 64us/sample - loss: 0.5059 - accuracy: 0.7960\n",
      "Epoch 77/100\n"
     ]
    },
    {
     "name": "stdout",
     "output_type": "stream",
     "text": [
      "8000/8000 [==============================] - 1s 63us/sample - loss: 0.5060 - accuracy: 0.7960\n",
      "Epoch 78/100\n",
      "8000/8000 [==============================] - 0s 61us/sample - loss: 0.5059 - accuracy: 0.7960\n",
      "Epoch 79/100\n",
      "8000/8000 [==============================] - 1s 75us/sample - loss: 0.5060 - accuracy: 0.7960\n",
      "Epoch 80/100\n",
      "8000/8000 [==============================] - 1s 66us/sample - loss: 0.5059 - accuracy: 0.7960\n",
      "Epoch 81/100\n",
      "8000/8000 [==============================] - 0s 59us/sample - loss: 0.5059 - accuracy: 0.7960\n",
      "Epoch 82/100\n",
      "8000/8000 [==============================] - 1s 71us/sample - loss: 0.5060 - accuracy: 0.7960\n",
      "Epoch 83/100\n",
      "8000/8000 [==============================] - 1s 78us/sample - loss: 0.5060 - accuracy: 0.7960\n",
      "Epoch 84/100\n",
      "8000/8000 [==============================] - 0s 62us/sample - loss: 0.5059 - accuracy: 0.7960\n",
      "Epoch 85/100\n",
      "8000/8000 [==============================] - 0s 59us/sample - loss: 0.5060 - accuracy: 0.7960\n",
      "Epoch 86/100\n",
      "8000/8000 [==============================] - 0s 60us/sample - loss: 0.5060 - accuracy: 0.7960\n",
      "Epoch 87/100\n",
      "8000/8000 [==============================] - 0s 59us/sample - loss: 0.5060 - accuracy: 0.7960\n",
      "Epoch 88/100\n",
      "8000/8000 [==============================] - 0s 61us/sample - loss: 0.5060 - accuracy: 0.7960\n",
      "Epoch 89/100\n",
      "8000/8000 [==============================] - 0s 61us/sample - loss: 0.5059 - accuracy: 0.7960\n",
      "Epoch 90/100\n",
      "8000/8000 [==============================] - 0s 59us/sample - loss: 0.5060 - accuracy: 0.7960\n",
      "Epoch 91/100\n",
      "8000/8000 [==============================] - 0s 61us/sample - loss: 0.5059 - accuracy: 0.7960\n",
      "Epoch 92/100\n",
      "8000/8000 [==============================] - 0s 61us/sample - loss: 0.5060 - accuracy: 0.7960\n",
      "Epoch 93/100\n",
      "8000/8000 [==============================] - 0s 62us/sample - loss: 0.5060 - accuracy: 0.7960\n",
      "Epoch 94/100\n",
      "8000/8000 [==============================] - 0s 62us/sample - loss: 0.5059 - accuracy: 0.7960\n",
      "Epoch 95/100\n",
      "8000/8000 [==============================] - 1s 65us/sample - loss: 0.5060 - accuracy: 0.7960\n",
      "Epoch 96/100\n",
      "8000/8000 [==============================] - 1s 64us/sample - loss: 0.5060 - accuracy: 0.7960\n",
      "Epoch 97/100\n",
      "8000/8000 [==============================] - 0s 60us/sample - loss: 0.5060 - accuracy: 0.7960\n",
      "Epoch 98/100\n",
      "8000/8000 [==============================] - 0s 61us/sample - loss: 0.5060 - accuracy: 0.7960\n",
      "Epoch 99/100\n",
      "8000/8000 [==============================] - 1s 89us/sample - loss: 0.5060 - accuracy: 0.7960\n",
      "Epoch 100/100\n",
      "8000/8000 [==============================] - 1s 66us/sample - loss: 0.5059 - accuracy: 0.7960\n"
     ]
    }
   ],
   "source": [
    "\n",
    "from sklearn.model_selection import GridSearchCV\n",
    "parameters = {'epochs': [ 50,100], 'batch_size': [16,32]}\n",
    "grid_search = GridSearchCV(estimator = classifier,\n",
    "                           param_grid = parameters,\n",
    "                           scoring = 'accuracy',\n",
    "                           cv = 10,\n",
    "                           n_jobs = -1)\n",
    "\n",
    "grid_search = grid_search.fit(X_train, y_train)\n",
    "best_accuracy = grid_search.best_score_\n",
    "best_parameters = grid_search.best_params_"
   ]
  },
  {
   "cell_type": "code",
   "execution_count": 60,
   "metadata": {},
   "outputs": [
    {
     "data": {
      "text/plain": [
       "0.771875"
      ]
     },
     "execution_count": 60,
     "metadata": {},
     "output_type": "execute_result"
    }
   ],
   "source": [
    "best_accuracy"
   ]
  },
  {
   "cell_type": "code",
   "execution_count": 61,
   "metadata": {},
   "outputs": [
    {
     "data": {
      "text/plain": [
       "{'batch_size': 32, 'epochs': 100}"
      ]
     },
     "execution_count": 61,
     "metadata": {},
     "output_type": "execute_result"
    }
   ],
   "source": [
    "best_parameters"
   ]
  },
  {
   "cell_type": "code",
   "execution_count": null,
   "metadata": {},
   "outputs": [],
   "source": []
  },
  {
   "cell_type": "code",
   "execution_count": null,
   "metadata": {},
   "outputs": [],
   "source": []
  },
  {
   "cell_type": "code",
   "execution_count": null,
   "metadata": {},
   "outputs": [],
   "source": []
  }
 ],
 "metadata": {
  "kernelspec": {
   "display_name": "Python 3",
   "language": "python",
   "name": "python3"
  },
  "language_info": {
   "codemirror_mode": {
    "name": "ipython",
    "version": 3
   },
   "file_extension": ".py",
   "mimetype": "text/x-python",
   "name": "python",
   "nbconvert_exporter": "python",
   "pygments_lexer": "ipython3",
   "version": "3.7.3"
  }
 },
 "nbformat": 4,
 "nbformat_minor": 2
}
